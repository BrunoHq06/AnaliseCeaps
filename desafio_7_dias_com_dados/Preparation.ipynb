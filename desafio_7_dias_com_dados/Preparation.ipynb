{
 "cells": [
  {
   "cell_type": "code",
   "execution_count": 48,
   "metadata": {},
   "outputs": [],
   "source": [
    "import pandas as pd\n",
    "import numpy as np\n",
    "import seaborn as sns"
   ]
  },
  {
   "cell_type": "markdown",
   "metadata": {},
   "source": [
    "## Testes iniciais"
   ]
  },
  {
   "cell_type": "code",
   "execution_count": 49,
   "metadata": {},
   "outputs": [],
   "source": [
    "#vamos consultar duas bases diferentes para entender seu formato\n",
    "\n",
    "df = pd.read_csv('https://www.senado.gov.br/transparencia/LAI/verba/despesa_ceaps_2022.csv',\n",
    "                 skiprows=1, #A primeira é irrelevante\n",
    "                 delimiter=';', #Precisamos passar o delimitador, por padrão pandas usa virgula\n",
    "                 encoding='latin') #Setar o enconding por conta dos acentos\n",
    "                 \n",
    "df_2 = pd.read_csv('https://www.senado.gov.br/transparencia/LAI/verba/despesa_ceaps_2021.csv',\n",
    "                 skiprows=1, #A primeira é irrelevante\n",
    "                 delimiter=';', #Precisamos passar o delimitador, por padrão pandas usa virgula\n",
    "                 encoding='latin')#Setar o enconding por conta dos acentos"
   ]
  },
  {
   "cell_type": "code",
   "execution_count": 50,
   "metadata": {
    "scrolled": true
   },
   "outputs": [
    {
     "name": "stdout",
     "output_type": "stream",
     "text": [
      "['ANO' 'MES' 'SENADOR' 'TIPO_DESPESA' 'CNPJ_CPF' 'FORNECEDOR' 'DOCUMENTO'\n",
      " 'DATA' 'DETALHAMENTO' 'VALOR_REEMBOLSADO' 'COD_DOCUMENTO']\n"
     ]
    }
   ],
   "source": [
    "#As bases possuem os mesmos campos, então vamos tentar empilhar todos os anos\n",
    "print(df.columns.values)"
   ]
  },
  {
   "cell_type": "code",
   "execution_count": 51,
   "metadata": {},
   "outputs": [
    {
     "data": {
      "text/html": [
       "<div>\n",
       "<style scoped>\n",
       "    .dataframe tbody tr th:only-of-type {\n",
       "        vertical-align: middle;\n",
       "    }\n",
       "\n",
       "    .dataframe tbody tr th {\n",
       "        vertical-align: top;\n",
       "    }\n",
       "\n",
       "    .dataframe thead th {\n",
       "        text-align: right;\n",
       "    }\n",
       "</style>\n",
       "<table border=\"1\" class=\"dataframe\">\n",
       "  <thead>\n",
       "    <tr style=\"text-align: right;\">\n",
       "      <th></th>\n",
       "      <th>ANO</th>\n",
       "      <th>MES</th>\n",
       "      <th>SENADOR</th>\n",
       "      <th>TIPO_DESPESA</th>\n",
       "      <th>CNPJ_CPF</th>\n",
       "      <th>FORNECEDOR</th>\n",
       "      <th>DOCUMENTO</th>\n",
       "      <th>DATA</th>\n",
       "      <th>DETALHAMENTO</th>\n",
       "      <th>VALOR_REEMBOLSADO</th>\n",
       "      <th>COD_DOCUMENTO</th>\n",
       "    </tr>\n",
       "  </thead>\n",
       "  <tbody>\n",
       "  </tbody>\n",
       "</table>\n",
       "</div>"
      ],
      "text/plain": [
       "Empty DataFrame\n",
       "Columns: [ANO, MES, SENADOR, TIPO_DESPESA, CNPJ_CPF, FORNECEDOR, DOCUMENTO, DATA, DETALHAMENTO, VALOR_REEMBOLSADO, COD_DOCUMENTO]\n",
       "Index: []"
      ]
     },
     "execution_count": 51,
     "metadata": {},
     "output_type": "execute_result"
    }
   ],
   "source": [
    "#Primeiro, vamos criar um df vazio com as colunas:\n",
    "col_names = df.columns\n",
    "\n",
    "df_conc = pd.DataFrame(columns=col_names)\n",
    "\n",
    "df_conc"
   ]
  },
  {
   "cell_type": "code",
   "execution_count": 52,
   "metadata": {},
   "outputs": [],
   "source": [
    "#Criar o loop para consolidar as bases\n",
    "#Estão disponiveis dados desde 2008 até 2022, então vamos criar uma lista com esses valores\n",
    "\n",
    "#Gerar lista númerica para ter um log simples do union das bases\n",
    "\n",
    "anos = []\n",
    "anos = [ i for i in range(2008,2023) ]\n",
    "\n",
    "get = 'https://www.senado.gov.br/transparencia/LAI/verba/despesa_ceaps_'\n",
    "\n"
   ]
  },
  {
   "cell_type": "code",
   "execution_count": 53,
   "metadata": {
    "scrolled": true
   },
   "outputs": [
    {
     "name": "stdout",
     "output_type": "stream",
     "text": [
      "Ano de consulta : 2008\n",
      "['ANO' 'MES' 'SENADOR' 'TIPO_DESPESA' 'CNPJ_CPF' 'FORNECEDOR' 'DOCUMENTO'\n",
      " 'DATA' 'DETALHAMENTO' 'VALOR_REEMBOLSADO' 'COD_DOCUMENTO']\n",
      "-------------------------------------------\n",
      "colunas do df\n",
      "['ANO' 'MES' 'SENADOR' 'TIPO_DESPESA' 'CNPJ_CPF' 'FORNECEDOR' 'DOCUMENTO'\n",
      " 'DATA' 'DETALHAMENTO' 'VALOR_REEMBOLSADO' 'COD_DOCUMENTO']\n",
      "Ano de consulta : 2009\n",
      "['ANO' 'MES' 'SENADOR' 'TIPO_DESPESA' 'CNPJ_CPF' 'FORNECEDOR' 'DOCUMENTO'\n",
      " 'DATA' 'DETALHAMENTO' 'VALOR_REEMBOLSADO' 'COD_DOCUMENTO']\n",
      "-------------------------------------------\n",
      "colunas do df\n",
      "['ANO' 'MES' 'SENADOR' 'TIPO_DESPESA' 'CNPJ_CPF' 'FORNECEDOR' 'DOCUMENTO'\n",
      " 'DATA' 'DETALHAMENTO' 'VALOR_REEMBOLSADO' 'COD_DOCUMENTO']\n",
      "Ano de consulta : 2010\n",
      "['ANO' 'MES' 'SENADOR' 'TIPO_DESPESA' 'CNPJ_CPF' 'FORNECEDOR' 'DOCUMENTO'\n",
      " 'DATA' 'DETALHAMENTO' 'VALOR_REEMBOLSADO' 'COD_DOCUMENTO']\n",
      "-------------------------------------------\n",
      "colunas do df\n",
      "['ANO' 'MES' 'SENADOR' 'TIPO_DESPESA' 'CNPJ_CPF' 'FORNECEDOR' 'DOCUMENTO'\n",
      " 'DATA' 'DETALHAMENTO' 'VALOR_REEMBOLSADO' 'COD_DOCUMENTO']\n",
      "Ano de consulta : 2011\n",
      "['ANO' 'MES' 'SENADOR' 'TIPO_DESPESA' 'CNPJ_CPF' 'FORNECEDOR' 'DOCUMENTO'\n",
      " 'DATA' 'DETALHAMENTO' 'VALOR_REEMBOLSADO' 'COD_DOCUMENTO']\n",
      "-------------------------------------------\n",
      "colunas do df\n",
      "['ANO' 'MES' 'SENADOR' 'TIPO_DESPESA' 'CNPJ_CPF' 'FORNECEDOR' 'DOCUMENTO'\n",
      " 'DATA' 'DETALHAMENTO' 'VALOR_REEMBOLSADO' 'COD_DOCUMENTO']\n",
      "Ano de consulta : 2012\n",
      "['ANO' 'MES' 'SENADOR' 'TIPO_DESPESA' 'CNPJ_CPF' 'FORNECEDOR' 'DOCUMENTO'\n",
      " 'DATA' 'DETALHAMENTO' 'VALOR_REEMBOLSADO' 'COD_DOCUMENTO']\n",
      "-------------------------------------------\n",
      "colunas do df\n",
      "['ANO' 'MES' 'SENADOR' 'TIPO_DESPESA' 'CNPJ_CPF' 'FORNECEDOR' 'DOCUMENTO'\n",
      " 'DATA' 'DETALHAMENTO' 'VALOR_REEMBOLSADO' 'COD_DOCUMENTO']\n",
      "Ano de consulta : 2013\n",
      "['ANO' 'MES' 'SENADOR' 'TIPO_DESPESA' 'CNPJ_CPF' 'FORNECEDOR' 'DOCUMENTO'\n",
      " 'DATA' 'DETALHAMENTO' 'VALOR_REEMBOLSADO' 'COD_DOCUMENTO']\n",
      "-------------------------------------------\n",
      "colunas do df\n",
      "['ANO' 'MES' 'SENADOR' 'TIPO_DESPESA' 'CNPJ_CPF' 'FORNECEDOR' 'DOCUMENTO'\n",
      " 'DATA' 'DETALHAMENTO' 'VALOR_REEMBOLSADO' 'COD_DOCUMENTO']\n",
      "Ano de consulta : 2014\n",
      "['ANO' 'MES' 'SENADOR' 'TIPO_DESPESA' 'CNPJ_CPF' 'FORNECEDOR' 'DOCUMENTO'\n",
      " 'DATA' 'DETALHAMENTO' 'VALOR_REEMBOLSADO' 'COD_DOCUMENTO']\n",
      "-------------------------------------------\n",
      "colunas do df\n",
      "['ANO' 'MES' 'SENADOR' 'TIPO_DESPESA' 'CNPJ_CPF' 'FORNECEDOR' 'DOCUMENTO'\n",
      " 'DATA' 'DETALHAMENTO' 'VALOR_REEMBOLSADO' 'COD_DOCUMENTO']\n",
      "Ano de consulta : 2015\n",
      "['ANO' 'MES' 'SENADOR' 'TIPO_DESPESA' 'CNPJ_CPF' 'FORNECEDOR' 'DOCUMENTO'\n",
      " 'DATA' 'DETALHAMENTO' 'VALOR_REEMBOLSADO' 'COD_DOCUMENTO']\n",
      "-------------------------------------------\n",
      "colunas do df\n",
      "['ANO' 'MES' 'SENADOR' 'TIPO_DESPESA' 'CNPJ_CPF' 'FORNECEDOR' 'DOCUMENTO'\n",
      " 'DATA' 'DETALHAMENTO' 'VALOR_REEMBOLSADO' 'COD_DOCUMENTO']\n",
      "Ano de consulta : 2016\n",
      "['ANO' 'MES' 'SENADOR' 'TIPO_DESPESA' 'CNPJ_CPF' 'FORNECEDOR' 'DOCUMENTO'\n",
      " 'DATA' 'DETALHAMENTO' 'VALOR_REEMBOLSADO' 'COD_DOCUMENTO']\n",
      "-------------------------------------------\n",
      "colunas do df\n",
      "['ANO' 'MES' 'SENADOR' 'TIPO_DESPESA' 'CNPJ_CPF' 'FORNECEDOR' 'DOCUMENTO'\n",
      " 'DATA' 'DETALHAMENTO' 'VALOR_REEMBOLSADO' 'COD_DOCUMENTO']\n",
      "Ano de consulta : 2017\n",
      "['ANO' 'MES' 'SENADOR' 'TIPO_DESPESA' 'CNPJ_CPF' 'FORNECEDOR' 'DOCUMENTO'\n",
      " 'DATA' 'DETALHAMENTO' 'VALOR_REEMBOLSADO' 'COD_DOCUMENTO']\n",
      "-------------------------------------------\n",
      "colunas do df\n",
      "['ANO' 'MES' 'SENADOR' 'TIPO_DESPESA' 'CNPJ_CPF' 'FORNECEDOR' 'DOCUMENTO'\n",
      " 'DATA' 'DETALHAMENTO' 'VALOR_REEMBOLSADO' 'COD_DOCUMENTO']\n",
      "Ano de consulta : 2018\n",
      "['ANO' 'MES' 'SENADOR' 'TIPO_DESPESA' 'CNPJ_CPF' 'FORNECEDOR' 'DOCUMENTO'\n",
      " 'DATA' 'DETALHAMENTO' 'VALOR_REEMBOLSADO' 'COD_DOCUMENTO']\n",
      "-------------------------------------------\n",
      "colunas do df\n",
      "['ANO' 'MES' 'SENADOR' 'TIPO_DESPESA' 'CNPJ_CPF' 'FORNECEDOR' 'DOCUMENTO'\n",
      " 'DATA' 'DETALHAMENTO' 'VALOR_REEMBOLSADO' 'COD_DOCUMENTO']\n",
      "Ano de consulta : 2019\n",
      "['ANO' 'MES' 'SENADOR' 'TIPO_DESPESA' 'CNPJ_CPF' 'FORNECEDOR' 'DOCUMENTO'\n",
      " 'DATA' 'DETALHAMENTO' 'VALOR_REEMBOLSADO' 'COD_DOCUMENTO']\n",
      "-------------------------------------------\n",
      "colunas do df\n",
      "['ANO' 'MES' 'SENADOR' 'TIPO_DESPESA' 'CNPJ_CPF' 'FORNECEDOR' 'DOCUMENTO'\n",
      " 'DATA' 'DETALHAMENTO' 'VALOR_REEMBOLSADO' 'COD_DOCUMENTO']\n",
      "Ano de consulta : 2020\n",
      "['ANO' 'MES' 'SENADOR' 'TIPO_DESPESA' 'CNPJ_CPF' 'FORNECEDOR' 'DOCUMENTO'\n",
      " 'DATA' 'DETALHAMENTO' 'VALOR_REEMBOLSADO' 'COD_DOCUMENTO']\n",
      "-------------------------------------------\n",
      "colunas do df\n",
      "['ANO' 'MES' 'SENADOR' 'TIPO_DESPESA' 'CNPJ_CPF' 'FORNECEDOR' 'DOCUMENTO'\n",
      " 'DATA' 'DETALHAMENTO' 'VALOR_REEMBOLSADO' 'COD_DOCUMENTO']\n",
      "Ano de consulta : 2021\n",
      "['ANO' 'MES' 'SENADOR' 'TIPO_DESPESA' 'CNPJ_CPF' 'FORNECEDOR' 'DOCUMENTO'\n",
      " 'DATA' 'DETALHAMENTO' 'VALOR_REEMBOLSADO' 'COD_DOCUMENTO']\n",
      "-------------------------------------------\n",
      "colunas do df\n",
      "['ANO' 'MES' 'SENADOR' 'TIPO_DESPESA' 'CNPJ_CPF' 'FORNECEDOR' 'DOCUMENTO'\n",
      " 'DATA' 'DETALHAMENTO' 'VALOR_REEMBOLSADO' 'COD_DOCUMENTO']\n",
      "Ano de consulta : 2022\n",
      "['ANO' 'MES' 'SENADOR' 'TIPO_DESPESA' 'CNPJ_CPF' 'FORNECEDOR' 'DOCUMENTO'\n",
      " 'DATA' 'DETALHAMENTO' 'VALOR_REEMBOLSADO' 'COD_DOCUMENTO']\n",
      "-------------------------------------------\n",
      "colunas do df\n",
      "['ANO' 'MES' 'SENADOR' 'TIPO_DESPESA' 'CNPJ_CPF' 'FORNECEDOR' 'DOCUMENTO'\n",
      " 'DATA' 'DETALHAMENTO' 'VALOR_REEMBOLSADO' 'COD_DOCUMENTO']\n"
     ]
    }
   ],
   "source": [
    "for ano in anos:\n",
    "    \n",
    "    ano_str = get + str(ano) + '.csv'\n",
    "    \n",
    "    df_loop = pd.read_csv(ano_str,\n",
    "                     skiprows=1, #Não trazer o header\n",
    "                     delimiter=';', #Precisamos passar o delimitador, por padrão pandas usa virgula\n",
    "                     encoding='latin')#Setar o enconding por conta dos acentos\n",
    "    \n",
    "    \n",
    "    print('Ano de consulta : ' + str(ano))\n",
    "    print(df_loop.columns.values)\n",
    "    print('-------------------------------------------')\n",
    "    print('colunas do df')\n",
    "    print(df_conc.columns.values)\n",
    "    \n",
    "    \n",
    "    df_conc = pd.concat([df_conc,df_loop])"
   ]
  },
  {
   "cell_type": "code",
   "execution_count": 54,
   "metadata": {},
   "outputs": [],
   "source": [
    "df_conc.reset_index(drop=True,inplace=True)"
   ]
  },
  {
   "cell_type": "markdown",
   "metadata": {},
   "source": [
    "## Data Wrangling "
   ]
  },
  {
   "cell_type": "code",
   "execution_count": 55,
   "metadata": {
    "scrolled": true
   },
   "outputs": [
    {
     "data": {
      "text/plain": [
       "ANO                       0\n",
       "MES                       0\n",
       "SENADOR                   0\n",
       "TIPO_DESPESA              0\n",
       "CNPJ_CPF               3144\n",
       "FORNECEDOR             3144\n",
       "DOCUMENTO             24085\n",
       "DATA                   3144\n",
       "DETALHAMENTO         131642\n",
       "VALOR_REEMBOLSADO         0\n",
       "COD_DOCUMENTO             2\n",
       "dtype: int64"
      ]
     },
     "execution_count": 55,
     "metadata": {},
     "output_type": "execute_result"
    }
   ],
   "source": [
    "df_conc_bkp = df_conc\n",
    "df_conc.isna().sum()"
   ]
  },
  {
   "cell_type": "code",
   "execution_count": 56,
   "metadata": {
    "scrolled": true
   },
   "outputs": [],
   "source": [
    "#Substituir alguns valores de data pela data que está na coluna de documento\n",
    "df_conc.loc[df_conc['DATA'].str.len() > 10,'DATA'] = df_conc.loc[df_conc['DATA'].str.len() > 10,'DOCUMENTO'].str.split(';',expand=True)[1]\n",
    "df_conc.loc[df_conc['DATA'].str.len() > 10,'DATA'] = df_conc.loc[df_conc['DATA'].str.len() > 10,'DATA'].str.split('\"',expand=True)[0]\n",
    "\n",
    "#Tratar a coluna valor reembolsado para transforma-lo em float\n",
    "df_conc['VALOR_REEMBOLSADO'] = df_conc['VALOR_REEMBOLSADO'].str.replace('1\\r\\n','')\n",
    "df_conc['VALOR_REEMBOLSADO'] = df_conc['VALOR_REEMBOLSADO'].str.replace(',','.')\n",
    "df_conc['VALOR_REEMBOLSADO'] = df_conc['VALOR_REEMBOLSADO'].astype('float')\n",
    "\n",
    "#Tratamento dos textos e data\n",
    "df_conc.loc[df_conc['DETALHAMENTO'].isnull() == True,'DETALHAMENTO'] = 'SEM DETALHAMENTO'\n",
    "df_conc['MES'] = df_conc['MES'].astype(str).str.zfill(2)\n",
    "df_conc['DT_DATA'] = df_conc['DIA'] + df_conc['MES'].astype(str) + df_conc['ANO'].astype(str)"
   ]
  },
  {
   "cell_type": "code",
   "execution_count": 81,
   "metadata": {},
   "outputs": [],
   "source": []
  },
  {
   "cell_type": "code",
   "execution_count": 62,
   "metadata": {},
   "outputs": [],
   "source": [
    "int_dict = {'ANO':'int16','MES':'int16'}\n",
    "cat_dict = {'SENADOR':'category','TIPO_DESPESA':'category','FORNECEDOR':'category'}\n",
    "str_dict = {'DETALHAMENTO':'string'}\n",
    "drop_col = ['COD_DOCUMENTO','DOCUMENTO','CNPJ_CPF']\n"
   ]
  },
  {
   "cell_type": "code",
   "execution_count": 83,
   "metadata": {},
   "outputs": [],
   "source": [
    "df_conc = df_conc.astype(int_dict)\n",
    "df_conc = df_conc.astype(cat_dict)\n",
    "df_conc = df_conc.astype(str_dict)\n",
    "df_conc = df_conc.drop(drop_col,axis=1)\n",
    "df_conc['DT_DATA'] = pd.to_datetime(df_conc['DT_DATA'], format='%d%m%Y',errors='coerce')\n"
   ]
  },
  {
   "cell_type": "code",
   "execution_count": 85,
   "metadata": {},
   "outputs": [
    {
     "data": {
      "text/plain": [
       "ANO                  0.000000\n",
       "MES                  0.000000\n",
       "SENADOR              0.000000\n",
       "TIPO_DESPESA         0.000000\n",
       "FORNECEDOR           1.040464\n",
       "DATA                 1.040464\n",
       "DETALHAMENTO         0.000000\n",
       "VALOR_REEMBOLSADO    0.000000\n",
       "DIA                  1.040464\n",
       "DT_DATA              1.284144\n",
       "dtype: float64"
      ]
     },
     "execution_count": 85,
     "metadata": {},
     "output_type": "execute_result"
    }
   ],
   "source": [
    "#deletando os nulos restantes perde-se apenas 1% da base.\n",
    "df_conc.isna().sum() / df_conc.count() * 100"
   ]
  },
  {
   "cell_type": "code",
   "execution_count": 86,
   "metadata": {},
   "outputs": [],
   "source": [
    "df_final = df_conc.dropna()"
   ]
  },
  {
   "cell_type": "code",
   "execution_count": 87,
   "metadata": {},
   "outputs": [],
   "source": [
    "#Exportar Base\n",
    "df_final.to_excel('base_consolidada.xlsx')"
   ]
  },
  {
   "cell_type": "code",
   "execution_count": null,
   "metadata": {},
   "outputs": [],
   "source": []
  }
 ],
 "metadata": {
  "kernelspec": {
   "display_name": "Python 3",
   "language": "python",
   "name": "python3"
  },
  "language_info": {
   "codemirror_mode": {
    "name": "ipython",
    "version": 3
   },
   "file_extension": ".py",
   "mimetype": "text/x-python",
   "name": "python",
   "nbconvert_exporter": "python",
   "pygments_lexer": "ipython3",
   "version": "3.7.6"
  }
 },
 "nbformat": 4,
 "nbformat_minor": 4
}
